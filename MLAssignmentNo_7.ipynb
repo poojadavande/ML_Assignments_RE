{
  "nbformat": 4,
  "nbformat_minor": 0,
  "metadata": {
    "colab": {
      "provenance": []
    },
    "kernelspec": {
      "name": "python3",
      "display_name": "Python 3"
    },
    "language_info": {
      "name": "python"
    }
  },
  "cells": [
    {
      "cell_type": "code",
      "execution_count": 1,
      "metadata": {
        "colab": {
          "base_uri": "https://localhost:8080/",
          "height": 73
        },
        "id": "dpFRnoMqGiN3",
        "outputId": "55cec969-4073-4f71-e344-5da5c70a7eac"
      },
      "outputs": [
        {
          "output_type": "display_data",
          "data": {
            "text/plain": [
              "<IPython.core.display.HTML object>"
            ],
            "text/html": [
              "\n",
              "     <input type=\"file\" id=\"files-0fe806b9-5471-4e65-b454-d8f7916f4c63\" name=\"files[]\" multiple disabled\n",
              "        style=\"border:none\" />\n",
              "     <output id=\"result-0fe806b9-5471-4e65-b454-d8f7916f4c63\">\n",
              "      Upload widget is only available when the cell has been executed in the\n",
              "      current browser session. Please rerun this cell to enable.\n",
              "      </output>\n",
              "      <script>// Copyright 2017 Google LLC\n",
              "//\n",
              "// Licensed under the Apache License, Version 2.0 (the \"License\");\n",
              "// you may not use this file except in compliance with the License.\n",
              "// You may obtain a copy of the License at\n",
              "//\n",
              "//      http://www.apache.org/licenses/LICENSE-2.0\n",
              "//\n",
              "// Unless required by applicable law or agreed to in writing, software\n",
              "// distributed under the License is distributed on an \"AS IS\" BASIS,\n",
              "// WITHOUT WARRANTIES OR CONDITIONS OF ANY KIND, either express or implied.\n",
              "// See the License for the specific language governing permissions and\n",
              "// limitations under the License.\n",
              "\n",
              "/**\n",
              " * @fileoverview Helpers for google.colab Python module.\n",
              " */\n",
              "(function(scope) {\n",
              "function span(text, styleAttributes = {}) {\n",
              "  const element = document.createElement('span');\n",
              "  element.textContent = text;\n",
              "  for (const key of Object.keys(styleAttributes)) {\n",
              "    element.style[key] = styleAttributes[key];\n",
              "  }\n",
              "  return element;\n",
              "}\n",
              "\n",
              "// Max number of bytes which will be uploaded at a time.\n",
              "const MAX_PAYLOAD_SIZE = 100 * 1024;\n",
              "\n",
              "function _uploadFiles(inputId, outputId) {\n",
              "  const steps = uploadFilesStep(inputId, outputId);\n",
              "  const outputElement = document.getElementById(outputId);\n",
              "  // Cache steps on the outputElement to make it available for the next call\n",
              "  // to uploadFilesContinue from Python.\n",
              "  outputElement.steps = steps;\n",
              "\n",
              "  return _uploadFilesContinue(outputId);\n",
              "}\n",
              "\n",
              "// This is roughly an async generator (not supported in the browser yet),\n",
              "// where there are multiple asynchronous steps and the Python side is going\n",
              "// to poll for completion of each step.\n",
              "// This uses a Promise to block the python side on completion of each step,\n",
              "// then passes the result of the previous step as the input to the next step.\n",
              "function _uploadFilesContinue(outputId) {\n",
              "  const outputElement = document.getElementById(outputId);\n",
              "  const steps = outputElement.steps;\n",
              "\n",
              "  const next = steps.next(outputElement.lastPromiseValue);\n",
              "  return Promise.resolve(next.value.promise).then((value) => {\n",
              "    // Cache the last promise value to make it available to the next\n",
              "    // step of the generator.\n",
              "    outputElement.lastPromiseValue = value;\n",
              "    return next.value.response;\n",
              "  });\n",
              "}\n",
              "\n",
              "/**\n",
              " * Generator function which is called between each async step of the upload\n",
              " * process.\n",
              " * @param {string} inputId Element ID of the input file picker element.\n",
              " * @param {string} outputId Element ID of the output display.\n",
              " * @return {!Iterable<!Object>} Iterable of next steps.\n",
              " */\n",
              "function* uploadFilesStep(inputId, outputId) {\n",
              "  const inputElement = document.getElementById(inputId);\n",
              "  inputElement.disabled = false;\n",
              "\n",
              "  const outputElement = document.getElementById(outputId);\n",
              "  outputElement.innerHTML = '';\n",
              "\n",
              "  const pickedPromise = new Promise((resolve) => {\n",
              "    inputElement.addEventListener('change', (e) => {\n",
              "      resolve(e.target.files);\n",
              "    });\n",
              "  });\n",
              "\n",
              "  const cancel = document.createElement('button');\n",
              "  inputElement.parentElement.appendChild(cancel);\n",
              "  cancel.textContent = 'Cancel upload';\n",
              "  const cancelPromise = new Promise((resolve) => {\n",
              "    cancel.onclick = () => {\n",
              "      resolve(null);\n",
              "    };\n",
              "  });\n",
              "\n",
              "  // Wait for the user to pick the files.\n",
              "  const files = yield {\n",
              "    promise: Promise.race([pickedPromise, cancelPromise]),\n",
              "    response: {\n",
              "      action: 'starting',\n",
              "    }\n",
              "  };\n",
              "\n",
              "  cancel.remove();\n",
              "\n",
              "  // Disable the input element since further picks are not allowed.\n",
              "  inputElement.disabled = true;\n",
              "\n",
              "  if (!files) {\n",
              "    return {\n",
              "      response: {\n",
              "        action: 'complete',\n",
              "      }\n",
              "    };\n",
              "  }\n",
              "\n",
              "  for (const file of files) {\n",
              "    const li = document.createElement('li');\n",
              "    li.append(span(file.name, {fontWeight: 'bold'}));\n",
              "    li.append(span(\n",
              "        `(${file.type || 'n/a'}) - ${file.size} bytes, ` +\n",
              "        `last modified: ${\n",
              "            file.lastModifiedDate ? file.lastModifiedDate.toLocaleDateString() :\n",
              "                                    'n/a'} - `));\n",
              "    const percent = span('0% done');\n",
              "    li.appendChild(percent);\n",
              "\n",
              "    outputElement.appendChild(li);\n",
              "\n",
              "    const fileDataPromise = new Promise((resolve) => {\n",
              "      const reader = new FileReader();\n",
              "      reader.onload = (e) => {\n",
              "        resolve(e.target.result);\n",
              "      };\n",
              "      reader.readAsArrayBuffer(file);\n",
              "    });\n",
              "    // Wait for the data to be ready.\n",
              "    let fileData = yield {\n",
              "      promise: fileDataPromise,\n",
              "      response: {\n",
              "        action: 'continue',\n",
              "      }\n",
              "    };\n",
              "\n",
              "    // Use a chunked sending to avoid message size limits. See b/62115660.\n",
              "    let position = 0;\n",
              "    do {\n",
              "      const length = Math.min(fileData.byteLength - position, MAX_PAYLOAD_SIZE);\n",
              "      const chunk = new Uint8Array(fileData, position, length);\n",
              "      position += length;\n",
              "\n",
              "      const base64 = btoa(String.fromCharCode.apply(null, chunk));\n",
              "      yield {\n",
              "        response: {\n",
              "          action: 'append',\n",
              "          file: file.name,\n",
              "          data: base64,\n",
              "        },\n",
              "      };\n",
              "\n",
              "      let percentDone = fileData.byteLength === 0 ?\n",
              "          100 :\n",
              "          Math.round((position / fileData.byteLength) * 100);\n",
              "      percent.textContent = `${percentDone}% done`;\n",
              "\n",
              "    } while (position < fileData.byteLength);\n",
              "  }\n",
              "\n",
              "  // All done.\n",
              "  yield {\n",
              "    response: {\n",
              "      action: 'complete',\n",
              "    }\n",
              "  };\n",
              "}\n",
              "\n",
              "scope.google = scope.google || {};\n",
              "scope.google.colab = scope.google.colab || {};\n",
              "scope.google.colab._files = {\n",
              "  _uploadFiles,\n",
              "  _uploadFilesContinue,\n",
              "};\n",
              "})(self);\n",
              "</script> "
            ]
          },
          "metadata": {}
        },
        {
          "output_type": "stream",
          "name": "stdout",
          "text": [
            "Saving datalab_export_2025-09-10 11_01_49.csv to datalab_export_2025-09-10 11_01_49.csv\n"
          ]
        }
      ],
      "source": [
        "from google.colab import files\n",
        "uploaded = files.upload()"
      ]
    },
    {
      "cell_type": "code",
      "source": [
        "import pandas as pd\n",
        "import numpy as np\n",
        "bank_data=pd.read_csv('datalab_export_2025-09-10 11_01_49.csv')\n",
        "print(bank_data.head())"
      ],
      "metadata": {
        "colab": {
          "base_uri": "https://localhost:8080/"
        },
        "id": "3U1vfX3cHtM6",
        "outputId": "fa1090cb-c092-415b-e3b1-0faa13420479"
      },
      "execution_count": 7,
      "outputs": [
        {
          "output_type": "stream",
          "name": "stdout",
          "text": [
            "   index  age        job  marital    education  default housing loan  \\\n",
            "0      0   56  housemaid  married     basic.4y       no      no   no   \n",
            "1      1   57   services  married  high.school  unknown      no   no   \n",
            "2      2   37   services  married  high.school       no     yes   no   \n",
            "3      3   40     admin.  married     basic.6y       no      no   no   \n",
            "4      4   56   services  married  high.school       no      no  yes   \n",
            "\n",
            "     contact month  ... campaign  pdays  previous     poutcome  emp.var.rate  \\\n",
            "0  telephone   may  ...        1    999         0  nonexistent           1.1   \n",
            "1  telephone   may  ...        1    999         0  nonexistent           1.1   \n",
            "2  telephone   may  ...        1    999         0  nonexistent           1.1   \n",
            "3  telephone   may  ...        1    999         0  nonexistent           1.1   \n",
            "4  telephone   may  ...        1    999         0  nonexistent           1.1   \n",
            "\n",
            "  cons.price.idx  cons.conf.idx  euribor3m  nr.employed   y  \n",
            "0         93.994          -36.4      4.857         5191  no  \n",
            "1         93.994          -36.4      4.857         5191  no  \n",
            "2         93.994          -36.4      4.857         5191  no  \n",
            "3         93.994          -36.4      4.857         5191  no  \n",
            "4         93.994          -36.4      4.857         5191  no  \n",
            "\n",
            "[5 rows x 22 columns]\n"
          ]
        }
      ]
    },
    {
      "cell_type": "code",
      "source": [
        "from sklearn.model_selection import train_test_split\n",
        "X = pd.get_dummies(bank_data.drop('y', axis=1), drop_first=True)\n",
        "y = bank_data['y']\n",
        "\n",
        "X_train, X_test, y_train, y_test = train_test_split(X, y, test_size=0.2, random_state=42, stratify=y)\n",
        "print(X_train.shape, X_test.shape)"
      ],
      "metadata": {
        "colab": {
          "base_uri": "https://localhost:8080/"
        },
        "id": "LrKbbfcHIm74",
        "outputId": "ea66c9a0-a15a-4407-d24c-ae3c118b9be3"
      },
      "execution_count": 17,
      "outputs": [
        {
          "output_type": "stream",
          "name": "stdout",
          "text": [
            "(80, 35) (20, 35)\n"
          ]
        }
      ]
    },
    {
      "cell_type": "code",
      "source": [
        "from sklearn.ensemble import RandomForestClassifier\n",
        "model=RandomForestClassifier()\n",
        "model.fit(X_train,y_train)\n",
        "y_pred=model.predict(X_test)"
      ],
      "metadata": {
        "id": "XqK5KjVDIUtW"
      },
      "execution_count": 20,
      "outputs": []
    },
    {
      "cell_type": "code",
      "source": [
        "from sklearn.metrics import confusion_matrix,ConfusionMatrixDisplay,accuracy_score\n",
        "cm=confusion_matrix(y_test,y_pred)\n",
        "ConfusionMatrixDisplay(cm).plot()"
      ],
      "metadata": {
        "colab": {
          "base_uri": "https://localhost:8080/",
          "height": 466
        },
        "id": "tw85kKyVLa_2",
        "outputId": "389672d9-8763-4a92-c5ce-32ff73bd66c7"
      },
      "execution_count": 21,
      "outputs": [
        {
          "output_type": "execute_result",
          "data": {
            "text/plain": [
              "<sklearn.metrics._plot.confusion_matrix.ConfusionMatrixDisplay at 0x7e5d3754e1b0>"
            ]
          },
          "metadata": {},
          "execution_count": 21
        },
        {
          "output_type": "display_data",
          "data": {
            "text/plain": [
              "<Figure size 640x480 with 2 Axes>"
            ],
            "image/png": "[encoded data removed]"
          },
          "metadata": {}
        }
      ]
    },
    {
      "cell_type": "code",
      "source": [
        "from sklearn import metrics\n",
        "print(\"Accuracy:\",metrics.accuracy_score(y_test, y_pred))\n",
        "print(\"Precision:\",metrics.precision_score(y_test, y_pred))\n",
        "print(\"Recall:\",metrics.recall_score(y_test, y_pred))\n",
        "print(\"F1 Score:\",metrics.f1_score(y_test, y_pred))"
      ],
      "metadata": {
        "colab": {
          "base_uri": "https://localhost:8080/"
        },
        "id": "L4stHMRDMKrx",
        "outputId": "e8d9c891-6700-46e8-dfe9-4f7a6273133f"
      },
      "execution_count": 24,
      "outputs": [
        {
          "output_type": "stream",
          "name": "stdout",
          "text": [
            "Accuracy: 0.95\n",
            "Precision: 0.0\n",
            "Recall: 0.0\n",
            "F1 Score: 0.0\n"
          ]
        },
        {
          "output_type": "stream",
          "name": "stderr",
          "text": [
            "/usr/local/lib/python3.12/dist-packages/sklearn/metrics/_classification.py:1565: UndefinedMetricWarning: Precision is ill-defined and being set to 0.0 due to no predicted samples. Use `zero_division` parameter to control this behavior.\n",
            "  _warn_prf(average, modifier, f\"{metric.capitalize()} is\", len(result))\n"
          ]
        }
      ]
    },
    {
      "cell_type": "code",
      "source": [
        "from sklearn.tree import export_graphviz\n",
        "from IPython.display import Image\n",
        "import graphviz\n",
        "for i in range(3):\n",
        "    tree = model.estimators_[i]\n",
        "    dot_data = export_graphviz(tree,\n",
        "                               feature_names=X_train.columns,\n",
        "                               filled=True,\n",
        "                               max_depth=2,\n",
        "                               impurity=False,\n",
        "                               proportion=True)\n",
        "    graph = graphviz.Source(dot_data)\n",
        "    display(graph)"
      ],
      "metadata": {
        "colab": {
          "base_uri": "https://localhost:8080/",
          "height": 1000
        },
        "id": "j7irGmeVM_2h",
        "outputId": "7838f841-7ddf-49ee-ddbc-c51d7ef9825c"
      },
      "execution_count": 27,
      "outputs": [
        {
          "output_type": "display_data",
          "data": {
            "image/svg+xml": "<?xml version=\"1.0\" encoding=\"UTF-8\" standalone=\"no\"?>\n<!DOCTYPE svg PUBLIC \"-//W3C//DTD SVG 1.1//EN\"\n \"http://www.w3.org/Graphics/SVG/1.1/DTD/svg11.dtd\">\n<!-- Generated by graphviz version 2.43.0 (0)\n -->\n<!-- Title: Tree Pages: 1 -->\n<svg width=\"573pt\" height=\"311pt\"\n viewBox=\"0.00 0.00 572.50 311.00\" xmlns=\"http://www.w3.org/2000/svg\" xmlns:xlink=\"http://www.w3.org/1999/xlink\">\n<g id=\"graph0\" class=\"graph\" transform=\"scale(1 1) rotate(0) translate(4 307)\">\n<title>Tree</title>\n<polygon fill=\"white\" stroke=\"transparent\" points=\"-4,4 -4,-307 568.5,-307 568.5,4 -4,4\"/>\n<!-- 0 -->\n<g id=\"node1\" class=\"node\">\n<title>0</title>\n<polygon fill=\"#e68843\" stroke=\"black\" points=\"373,-303 211,-303 211,-250 373,-250 373,-303\"/>\n<text text-anchor=\"middle\" x=\"292\" y=\"-287.8\" font-family=\"Helvetica,sans-Serif\" font-size=\"14.00\">job_entrepreneur &lt;= 0.5</text>\n<text text-anchor=\"middle\" x=\"292\" y=\"-272.8\" font-family=\"Helvetica,sans-Serif\" font-size=\"14.00\">samples = 100.0%</text>\n<text text-anchor=\"middle\" x=\"292\" y=\"-257.8\" font-family=\"Helvetica,sans-Serif\" font-size=\"14.00\">value = [0.95, 0.05]</text>\n</g>\n<!-- 1 -->\n<g id=\"node2\" class=\"node\">\n<title>1</title>\n<polygon fill=\"#e6843e\" stroke=\"black\" points=\"283.5,-214 136.5,-214 136.5,-161 283.5,-161 283.5,-214\"/>\n<text text-anchor=\"middle\" x=\"210\" y=\"-198.8\" font-family=\"Helvetica,sans-Serif\" font-size=\"14.00\">job_blue&#45;collar &lt;= 0.5</text>\n<text text-anchor=\"middle\" x=\"210\" y=\"-183.8\" font-family=\"Helvetica,sans-Serif\" font-size=\"14.00\">samples = 96.2%</text>\n<text text-anchor=\"middle\" x=\"210\" y=\"-168.8\" font-family=\"Helvetica,sans-Serif\" font-size=\"14.00\">value = [0.974, 0.026]</text>\n</g>\n<!-- 0&#45;&gt;1 -->\n<g id=\"edge1\" class=\"edge\">\n<title>0&#45;&gt;1</title>\n<path fill=\"none\" stroke=\"black\" d=\"M267.84,-249.87C259.49,-241.01 250.01,-230.95 241.18,-221.58\"/>\n<polygon fill=\"black\" stroke=\"black\" points=\"243.68,-219.13 234.27,-214.25 238.58,-223.93 243.68,-219.13\"/>\n<text text-anchor=\"middle\" x=\"233.53\" y=\"-235.54\" font-family=\"Helvetica,sans-Serif\" font-size=\"14.00\">True</text>\n</g>\n<!-- 14 -->\n<g id=\"node7\" class=\"node\">\n<title>14</title>\n<polygon fill=\"#9ccef2\" stroke=\"black\" points=\"448.5,-214 301.5,-214 301.5,-161 448.5,-161 448.5,-214\"/>\n<text text-anchor=\"middle\" x=\"375\" y=\"-198.8\" font-family=\"Helvetica,sans-Serif\" font-size=\"14.00\">duration &lt;= 678.0</text>\n<text text-anchor=\"middle\" x=\"375\" y=\"-183.8\" font-family=\"Helvetica,sans-Serif\" font-size=\"14.00\">samples = 3.8%</text>\n<text text-anchor=\"middle\" x=\"375\" y=\"-168.8\" font-family=\"Helvetica,sans-Serif\" font-size=\"14.00\">value = [0.333, 0.667]</text>\n</g>\n<!-- 0&#45;&gt;14 -->\n<g id=\"edge6\" class=\"edge\">\n<title>0&#45;&gt;14</title>\n<path fill=\"none\" stroke=\"black\" d=\"M316.45,-249.87C324.91,-241.01 334.5,-230.95 343.44,-221.58\"/>\n<polygon fill=\"black\" stroke=\"black\" points=\"346.06,-223.9 350.43,-214.25 341,-219.07 346.06,-223.9\"/>\n<text text-anchor=\"middle\" x=\"351.02\" y=\"-235.54\" font-family=\"Helvetica,sans-Serif\" font-size=\"14.00\">False</text>\n</g>\n<!-- 2 -->\n<g id=\"node3\" class=\"node\">\n<title>2</title>\n<polygon fill=\"#e58139\" stroke=\"black\" points=\"122,-117.5 0,-117.5 0,-79.5 122,-79.5 122,-117.5\"/>\n<text text-anchor=\"middle\" x=\"61\" y=\"-102.3\" font-family=\"Helvetica,sans-Serif\" font-size=\"14.00\">samples = 73.1%</text>\n<text text-anchor=\"middle\" x=\"61\" y=\"-87.3\" font-family=\"Helvetica,sans-Serif\" font-size=\"14.00\">value = [1.0, 0.0]</text>\n</g>\n<!-- 1&#45;&gt;2 -->\n<g id=\"edge2\" class=\"edge\">\n<title>1&#45;&gt;2</title>\n<path fill=\"none\" stroke=\"black\" d=\"M166.1,-160.87C145.31,-148.73 120.68,-134.35 100.48,-122.55\"/>\n<polygon fill=\"black\" stroke=\"black\" points=\"102.24,-119.53 91.84,-117.51 98.71,-125.57 102.24,-119.53\"/>\n</g>\n<!-- 3 -->\n<g id=\"node4\" class=\"node\">\n<title>3</title>\n<polygon fill=\"#e88e4e\" stroke=\"black\" points=\"287.5,-125 140.5,-125 140.5,-72 287.5,-72 287.5,-125\"/>\n<text text-anchor=\"middle\" x=\"214\" y=\"-109.8\" font-family=\"Helvetica,sans-Serif\" font-size=\"14.00\">marital_single &lt;= 0.5</text>\n<text text-anchor=\"middle\" x=\"214\" y=\"-94.8\" font-family=\"Helvetica,sans-Serif\" font-size=\"14.00\">samples = 23.1%</text>\n<text text-anchor=\"middle\" x=\"214\" y=\"-79.8\" font-family=\"Helvetica,sans-Serif\" font-size=\"14.00\">value = [0.905, 0.095]</text>\n</g>\n<!-- 1&#45;&gt;3 -->\n<g id=\"edge3\" class=\"edge\">\n<title>1&#45;&gt;3</title>\n<path fill=\"none\" stroke=\"black\" d=\"M211.18,-160.87C211.55,-152.89 211.96,-143.93 212.35,-135.38\"/>\n<polygon fill=\"black\" stroke=\"black\" points=\"215.85,-135.4 212.82,-125.25 208.86,-135.08 215.85,-135.4\"/>\n</g>\n<!-- 4 -->\n<g id=\"node5\" class=\"node\">\n<title>4</title>\n<polygon fill=\"#c0c0c0\" stroke=\"black\" points=\"205,-36 151,-36 151,0 205,0 205,-36\"/>\n<text text-anchor=\"middle\" x=\"178\" y=\"-14.3\" font-family=\"Helvetica,sans-Serif\" font-size=\"14.00\">(...)</text>\n</g>\n<!-- 3&#45;&gt;4 -->\n<g id=\"edge4\" class=\"edge\">\n<title>3&#45;&gt;4</title>\n<path fill=\"none\" stroke=\"black\" d=\"M202.21,-71.8C198.34,-63.35 194.03,-53.95 190.13,-45.45\"/>\n<polygon fill=\"black\" stroke=\"black\" points=\"193.3,-43.96 185.95,-36.33 186.93,-46.88 193.3,-43.96\"/>\n</g>\n<!-- 13 -->\n<g id=\"node6\" class=\"node\">\n<title>13</title>\n<polygon fill=\"#c0c0c0\" stroke=\"black\" points=\"277,-36 223,-36 223,0 277,0 277,-36\"/>\n<text text-anchor=\"middle\" x=\"250\" y=\"-14.3\" font-family=\"Helvetica,sans-Serif\" font-size=\"14.00\">(...)</text>\n</g>\n<!-- 3&#45;&gt;13 -->\n<g id=\"edge5\" class=\"edge\">\n<title>3&#45;&gt;13</title>\n<path fill=\"none\" stroke=\"black\" d=\"M225.79,-71.8C229.66,-63.35 233.97,-53.95 237.87,-45.45\"/>\n<polygon fill=\"black\" stroke=\"black\" points=\"241.07,-46.88 242.05,-36.33 234.7,-43.96 241.07,-46.88\"/>\n</g>\n<!-- 15 -->\n<g id=\"node8\" class=\"node\">\n<title>15</title>\n<polygon fill=\"#e58139\" stroke=\"black\" points=\"429.5,-117.5 312.5,-117.5 312.5,-79.5 429.5,-79.5 429.5,-117.5\"/>\n<text text-anchor=\"middle\" x=\"371\" y=\"-102.3\" font-family=\"Helvetica,sans-Serif\" font-size=\"14.00\">samples = 1.9%</text>\n<text text-anchor=\"middle\" x=\"371\" y=\"-87.3\" font-family=\"Helvetica,sans-Serif\" font-size=\"14.00\">value = [1.0, 0.0]</text>\n</g>\n<!-- 14&#45;&gt;15 -->\n<g id=\"edge7\" class=\"edge\">\n<title>14&#45;&gt;15</title>\n<path fill=\"none\" stroke=\"black\" d=\"M373.82,-160.87C373.34,-150.42 372.78,-138.3 372.29,-127.61\"/>\n<polygon fill=\"black\" stroke=\"black\" points=\"375.78,-127.34 371.83,-117.51 368.79,-127.66 375.78,-127.34\"/>\n</g>\n<!-- 16 -->\n<g id=\"node9\" class=\"node\">\n<title>16</title>\n<polygon fill=\"#399de5\" stroke=\"black\" points=\"564.5,-117.5 447.5,-117.5 447.5,-79.5 564.5,-79.5 564.5,-117.5\"/>\n<text text-anchor=\"middle\" x=\"506\" y=\"-102.3\" font-family=\"Helvetica,sans-Serif\" font-size=\"14.00\">samples = 1.9%</text>\n<text text-anchor=\"middle\" x=\"506\" y=\"-87.3\" font-family=\"Helvetica,sans-Serif\" font-size=\"14.00\">value = [0.0, 1.0]</text>\n</g>\n<!-- 14&#45;&gt;16 -->\n<g id=\"edge8\" class=\"edge\">\n<title>14&#45;&gt;16</title>\n<path fill=\"none\" stroke=\"black\" d=\"M413.6,-160.87C431.46,-149 452.56,-134.99 470.09,-123.35\"/>\n<polygon fill=\"black\" stroke=\"black\" points=\"472.49,-125.95 478.89,-117.51 468.62,-120.12 472.49,-125.95\"/>\n</g>\n</g>\n</svg>\n",
            "text/plain": [
              "<graphviz.sources.Source at 0x7e5d34ba1250>"
            ]
          },
          "metadata": {}
        },
        {
          "output_type": "display_data",
          "data": {
            "image/svg+xml": "<?xml version=\"1.0\" encoding=\"UTF-8\" standalone=\"no\"?>\n<!DOCTYPE svg PUBLIC \"-//W3C//DTD SVG 1.1//EN\"\n \"http://www.w3.org/Graphics/SVG/1.1/DTD/svg11.dtd\">\n<!-- Generated by graphviz version 2.43.0 (0)\n -->\n<!-- Title: Tree Pages: 1 -->\n<svg width=\"372pt\" height=\"311pt\"\n viewBox=\"0.00 0.00 371.50 311.00\" xmlns=\"http://www.w3.org/2000/svg\" xmlns:xlink=\"http://www.w3.org/1999/xlink\">\n<g id=\"graph0\" class=\"graph\" transform=\"scale(1 1) rotate(0) translate(4 307)\">\n<title>Tree</title>\n<polygon fill=\"white\" stroke=\"transparent\" points=\"-4,4 -4,-307 367.5,-307 367.5,4 -4,4\"/>\n<!-- 0 -->\n<g id=\"node1\" class=\"node\">\n<title>0</title>\n<polygon fill=\"#e68641\" stroke=\"black\" points=\"210.5,-303 63.5,-303 63.5,-250 210.5,-250 210.5,-303\"/>\n<text text-anchor=\"middle\" x=\"137\" y=\"-287.8\" font-family=\"Helvetica,sans-Serif\" font-size=\"14.00\">housing_yes &lt;= 0.5</text>\n<text text-anchor=\"middle\" x=\"137\" y=\"-272.8\" font-family=\"Helvetica,sans-Serif\" font-size=\"14.00\">samples = 100.0%</text>\n<text text-anchor=\"middle\" x=\"137\" y=\"-257.8\" font-family=\"Helvetica,sans-Serif\" font-size=\"14.00\">value = [0.962, 0.038]</text>\n</g>\n<!-- 1 -->\n<g id=\"node2\" class=\"node\">\n<title>1</title>\n<polygon fill=\"#e58139\" stroke=\"black\" points=\"122,-206.5 0,-206.5 0,-168.5 122,-168.5 122,-206.5\"/>\n<text text-anchor=\"middle\" x=\"61\" y=\"-191.3\" font-family=\"Helvetica,sans-Serif\" font-size=\"14.00\">samples = 51.0%</text>\n<text text-anchor=\"middle\" x=\"61\" y=\"-176.3\" font-family=\"Helvetica,sans-Serif\" font-size=\"14.00\">value = [1.0, 0.0]</text>\n</g>\n<!-- 0&#45;&gt;1 -->\n<g id=\"edge1\" class=\"edge\">\n<title>0&#45;&gt;1</title>\n<path fill=\"none\" stroke=\"black\" d=\"M114.61,-249.87C104.81,-238.66 93.34,-225.53 83.53,-214.29\"/>\n<polygon fill=\"black\" stroke=\"black\" points=\"85.94,-211.74 76.73,-206.51 80.67,-216.34 85.94,-211.74\"/>\n<text text-anchor=\"middle\" x=\"75.05\" y=\"-227.75\" font-family=\"Helvetica,sans-Serif\" font-size=\"14.00\">True</text>\n</g>\n<!-- 2 -->\n<g id=\"node3\" class=\"node\">\n<title>2</title>\n<polygon fill=\"#e78b49\" stroke=\"black\" points=\"287.5,-214 140.5,-214 140.5,-161 287.5,-161 287.5,-214\"/>\n<text text-anchor=\"middle\" x=\"214\" y=\"-198.8\" font-family=\"Helvetica,sans-Serif\" font-size=\"14.00\">index &lt;= 71.5</text>\n<text text-anchor=\"middle\" x=\"214\" y=\"-183.8\" font-family=\"Helvetica,sans-Serif\" font-size=\"14.00\">samples = 49.0%</text>\n<text text-anchor=\"middle\" x=\"214\" y=\"-168.8\" font-family=\"Helvetica,sans-Serif\" font-size=\"14.00\">value = [0.927, 0.073]</text>\n</g>\n<!-- 0&#45;&gt;2 -->\n<g id=\"edge2\" class=\"edge\">\n<title>0&#45;&gt;2</title>\n<path fill=\"none\" stroke=\"black\" d=\"M159.69,-249.87C167.45,-241.1 176.25,-231.15 184.47,-221.86\"/>\n<polygon fill=\"black\" stroke=\"black\" points=\"187.2,-224.06 191.21,-214.25 181.96,-219.42 187.2,-224.06\"/>\n<text text-anchor=\"middle\" x=\"192.73\" y=\"-235.5\" font-family=\"Helvetica,sans-Serif\" font-size=\"14.00\">False</text>\n</g>\n<!-- 3 -->\n<g id=\"node4\" class=\"node\">\n<title>3</title>\n<polygon fill=\"#e58139\" stroke=\"black\" points=\"198,-117.5 76,-117.5 76,-79.5 198,-79.5 198,-117.5\"/>\n<text text-anchor=\"middle\" x=\"137\" y=\"-102.3\" font-family=\"Helvetica,sans-Serif\" font-size=\"14.00\">samples = 36.7%</text>\n<text text-anchor=\"middle\" x=\"137\" y=\"-87.3\" font-family=\"Helvetica,sans-Serif\" font-size=\"14.00\">value = [1.0, 0.0]</text>\n</g>\n<!-- 2&#45;&gt;3 -->\n<g id=\"edge3\" class=\"edge\">\n<title>2&#45;&gt;3</title>\n<path fill=\"none\" stroke=\"black\" d=\"M191.31,-160.87C181.39,-149.66 169.77,-136.53 159.83,-125.29\"/>\n<polygon fill=\"black\" stroke=\"black\" points=\"162.19,-122.68 152.94,-117.51 156.94,-127.31 162.19,-122.68\"/>\n</g>\n<!-- 4 -->\n<g id=\"node5\" class=\"node\">\n<title>4</title>\n<polygon fill=\"#f5cdb0\" stroke=\"black\" points=\"363.5,-125 216.5,-125 216.5,-72 363.5,-72 363.5,-125\"/>\n<text text-anchor=\"middle\" x=\"290\" y=\"-109.8\" font-family=\"Helvetica,sans-Serif\" font-size=\"14.00\">duration &lt;= 657.0</text>\n<text text-anchor=\"middle\" x=\"290\" y=\"-94.8\" font-family=\"Helvetica,sans-Serif\" font-size=\"14.00\">samples = 12.2%</text>\n<text text-anchor=\"middle\" x=\"290\" y=\"-79.8\" font-family=\"Helvetica,sans-Serif\" font-size=\"14.00\">value = [0.625, 0.375]</text>\n</g>\n<!-- 2&#45;&gt;4 -->\n<g id=\"edge4\" class=\"edge\">\n<title>2&#45;&gt;4</title>\n<path fill=\"none\" stroke=\"black\" d=\"M236.39,-160.87C244.05,-152.1 252.74,-142.15 260.86,-132.86\"/>\n<polygon fill=\"black\" stroke=\"black\" points=\"263.56,-135.08 267.51,-125.25 258.29,-130.48 263.56,-135.08\"/>\n</g>\n<!-- 5 -->\n<g id=\"node6\" class=\"node\">\n<title>5</title>\n<polygon fill=\"#c0c0c0\" stroke=\"black\" points=\"281,-36 227,-36 227,0 281,0 281,-36\"/>\n<text text-anchor=\"middle\" x=\"254\" y=\"-14.3\" font-family=\"Helvetica,sans-Serif\" font-size=\"14.00\">(...)</text>\n</g>\n<!-- 4&#45;&gt;5 -->\n<g id=\"edge5\" class=\"edge\">\n<title>4&#45;&gt;5</title>\n<path fill=\"none\" stroke=\"black\" d=\"M278.21,-71.8C274.34,-63.35 270.03,-53.95 266.13,-45.45\"/>\n<polygon fill=\"black\" stroke=\"black\" points=\"269.3,-43.96 261.95,-36.33 262.93,-46.88 269.3,-43.96\"/>\n</g>\n<!-- 6 -->\n<g id=\"node7\" class=\"node\">\n<title>6</title>\n<polygon fill=\"#c0c0c0\" stroke=\"black\" points=\"353,-36 299,-36 299,0 353,0 353,-36\"/>\n<text text-anchor=\"middle\" x=\"326\" y=\"-14.3\" font-family=\"Helvetica,sans-Serif\" font-size=\"14.00\">(...)</text>\n</g>\n<!-- 4&#45;&gt;6 -->\n<g id=\"edge6\" class=\"edge\">\n<title>4&#45;&gt;6</title>\n<path fill=\"none\" stroke=\"black\" d=\"M301.79,-71.8C305.66,-63.35 309.97,-53.95 313.87,-45.45\"/>\n<polygon fill=\"black\" stroke=\"black\" points=\"317.07,-46.88 318.05,-36.33 310.7,-43.96 317.07,-46.88\"/>\n</g>\n</g>\n</svg>\n",
            "text/plain": [
              "<graphviz.sources.Source at 0x7e5d36c420f0>"
            ]
          },
          "metadata": {}
        },
        {
          "output_type": "display_data",
          "data": {
            "image/svg+xml": "<?xml version=\"1.0\" encoding=\"UTF-8\" standalone=\"no\"?>\n<!DOCTYPE svg PUBLIC \"-//W3C//DTD SVG 1.1//EN\"\n \"http://www.w3.org/Graphics/SVG/1.1/DTD/svg11.dtd\">\n<!-- Generated by graphviz version 2.43.0 (0)\n -->\n<!-- Title: Tree Pages: 1 -->\n<svg width=\"371pt\" height=\"311pt\"\n viewBox=\"0.00 0.00 371.00 311.00\" xmlns=\"http://www.w3.org/2000/svg\" xmlns:xlink=\"http://www.w3.org/1999/xlink\">\n<g id=\"graph0\" class=\"graph\" transform=\"scale(1 1) rotate(0) translate(4 307)\">\n<title>Tree</title>\n<polygon fill=\"white\" stroke=\"transparent\" points=\"-4,4 -4,-307 367,-307 367,4 -4,4\"/>\n<!-- 0 -->\n<g id=\"node1\" class=\"node\">\n<title>0</title>\n<polygon fill=\"#e5833c\" stroke=\"black\" points=\"338.5,-303 111.5,-303 111.5,-250 338.5,-250 338.5,-303\"/>\n<text text-anchor=\"middle\" x=\"225\" y=\"-287.8\" font-family=\"Helvetica,sans-Serif\" font-size=\"14.00\">education_university.degree &lt;= 0.5</text>\n<text text-anchor=\"middle\" x=\"225\" y=\"-272.8\" font-family=\"Helvetica,sans-Serif\" font-size=\"14.00\">samples = 100.0%</text>\n<text text-anchor=\"middle\" x=\"225\" y=\"-257.8\" font-family=\"Helvetica,sans-Serif\" font-size=\"14.00\">value = [0.988, 0.012]</text>\n</g>\n<!-- 1 -->\n<g id=\"node2\" class=\"node\">\n<title>1</title>\n<polygon fill=\"#e5833c\" stroke=\"black\" points=\"222.5,-214 75.5,-214 75.5,-161 222.5,-161 222.5,-214\"/>\n<text text-anchor=\"middle\" x=\"149\" y=\"-198.8\" font-family=\"Helvetica,sans-Serif\" font-size=\"14.00\">index &lt;= 74.0</text>\n<text text-anchor=\"middle\" x=\"149\" y=\"-183.8\" font-family=\"Helvetica,sans-Serif\" font-size=\"14.00\">samples = 76.9%</text>\n<text text-anchor=\"middle\" x=\"149\" y=\"-168.8\" font-family=\"Helvetica,sans-Serif\" font-size=\"14.00\">value = [0.983, 0.017]</text>\n</g>\n<!-- 0&#45;&gt;1 -->\n<g id=\"edge1\" class=\"edge\">\n<title>0&#45;&gt;1</title>\n<path fill=\"none\" stroke=\"black\" d=\"M202.61,-249.87C194.95,-241.1 186.26,-231.15 178.14,-221.86\"/>\n<polygon fill=\"black\" stroke=\"black\" points=\"180.71,-219.48 171.49,-214.25 175.44,-224.08 180.71,-219.48\"/>\n<text text-anchor=\"middle\" x=\"169.81\" y=\"-235.49\" font-family=\"Helvetica,sans-Serif\" font-size=\"14.00\">True</text>\n</g>\n<!-- 10 -->\n<g id=\"node7\" class=\"node\">\n<title>10</title>\n<polygon fill=\"#e58139\" stroke=\"black\" points=\"363,-206.5 241,-206.5 241,-168.5 363,-168.5 363,-206.5\"/>\n<text text-anchor=\"middle\" x=\"302\" y=\"-191.3\" font-family=\"Helvetica,sans-Serif\" font-size=\"14.00\">samples = 23.1%</text>\n<text text-anchor=\"middle\" x=\"302\" y=\"-176.3\" font-family=\"Helvetica,sans-Serif\" font-size=\"14.00\">value = [1.0, 0.0]</text>\n</g>\n<!-- 0&#45;&gt;10 -->\n<g id=\"edge6\" class=\"edge\">\n<title>0&#45;&gt;10</title>\n<path fill=\"none\" stroke=\"black\" d=\"M247.69,-249.87C257.61,-238.66 269.23,-225.53 279.17,-214.29\"/>\n<polygon fill=\"black\" stroke=\"black\" points=\"282.06,-216.31 286.06,-206.51 276.81,-211.68 282.06,-216.31\"/>\n<text text-anchor=\"middle\" x=\"287.58\" y=\"-227.76\" font-family=\"Helvetica,sans-Serif\" font-size=\"14.00\">False</text>\n</g>\n<!-- 2 -->\n<g id=\"node3\" class=\"node\">\n<title>2</title>\n<polygon fill=\"#e58139\" stroke=\"black\" points=\"122,-117.5 0,-117.5 0,-79.5 122,-79.5 122,-117.5\"/>\n<text text-anchor=\"middle\" x=\"61\" y=\"-102.3\" font-family=\"Helvetica,sans-Serif\" font-size=\"14.00\">samples = 57.7%</text>\n<text text-anchor=\"middle\" x=\"61\" y=\"-87.3\" font-family=\"Helvetica,sans-Serif\" font-size=\"14.00\">value = [1.0, 0.0]</text>\n</g>\n<!-- 1&#45;&gt;2 -->\n<g id=\"edge2\" class=\"edge\">\n<title>1&#45;&gt;2</title>\n<path fill=\"none\" stroke=\"black\" d=\"M123.07,-160.87C111.51,-149.44 97.93,-136.01 86.43,-124.64\"/>\n<polygon fill=\"black\" stroke=\"black\" points=\"88.79,-122.05 79.21,-117.51 83.86,-127.03 88.79,-122.05\"/>\n</g>\n<!-- 3 -->\n<g id=\"node4\" class=\"node\">\n<title>3</title>\n<polygon fill=\"#e78b48\" stroke=\"black\" points=\"334,-125 140,-125 140,-72 334,-72 334,-125\"/>\n<text text-anchor=\"middle\" x=\"237\" y=\"-109.8\" font-family=\"Helvetica,sans-Serif\" font-size=\"14.00\">education_high.school &lt;= 0.5</text>\n<text text-anchor=\"middle\" x=\"237\" y=\"-94.8\" font-family=\"Helvetica,sans-Serif\" font-size=\"14.00\">samples = 19.2%</text>\n<text text-anchor=\"middle\" x=\"237\" y=\"-79.8\" font-family=\"Helvetica,sans-Serif\" font-size=\"14.00\">value = [0.929, 0.071]</text>\n</g>\n<!-- 1&#45;&gt;3 -->\n<g id=\"edge3\" class=\"edge\">\n<title>1&#45;&gt;3</title>\n<path fill=\"none\" stroke=\"black\" d=\"M174.93,-160.87C183.98,-151.92 194.26,-141.75 203.82,-132.3\"/>\n<polygon fill=\"black\" stroke=\"black\" points=\"206.3,-134.77 210.95,-125.25 201.38,-129.79 206.3,-134.77\"/>\n</g>\n<!-- 4 -->\n<g id=\"node5\" class=\"node\">\n<title>4</title>\n<polygon fill=\"#c0c0c0\" stroke=\"black\" points=\"228,-36 174,-36 174,0 228,0 228,-36\"/>\n<text text-anchor=\"middle\" x=\"201\" y=\"-14.3\" font-family=\"Helvetica,sans-Serif\" font-size=\"14.00\">(...)</text>\n</g>\n<!-- 3&#45;&gt;4 -->\n<g id=\"edge4\" class=\"edge\">\n<title>3&#45;&gt;4</title>\n<path fill=\"none\" stroke=\"black\" d=\"M225.21,-71.8C221.34,-63.35 217.03,-53.95 213.13,-45.45\"/>\n<polygon fill=\"black\" stroke=\"black\" points=\"216.3,-43.96 208.95,-36.33 209.93,-46.88 216.3,-43.96\"/>\n</g>\n<!-- 9 -->\n<g id=\"node6\" class=\"node\">\n<title>9</title>\n<polygon fill=\"#c0c0c0\" stroke=\"black\" points=\"300,-36 246,-36 246,0 300,0 300,-36\"/>\n<text text-anchor=\"middle\" x=\"273\" y=\"-14.3\" font-family=\"Helvetica,sans-Serif\" font-size=\"14.00\">(...)</text>\n</g>\n<!-- 3&#45;&gt;9 -->\n<g id=\"edge5\" class=\"edge\">\n<title>3&#45;&gt;9</title>\n<path fill=\"none\" stroke=\"black\" d=\"M248.79,-71.8C252.66,-63.35 256.97,-53.95 260.87,-45.45\"/>\n<polygon fill=\"black\" stroke=\"black\" points=\"264.07,-46.88 265.05,-36.33 257.7,-43.96 264.07,-46.88\"/>\n</g>\n</g>\n</svg>\n",
            "text/plain": [
              "<graphviz.sources.Source at 0x7e5d34ba1250>"
            ]
          },
          "metadata": {}
        }
      ]
    },
    {
      "cell_type": "code",
      "source": [],
      "metadata": {
        "id": "g3SgT7xrNXlR"
      },
      "execution_count": null,
      "outputs": []
    }
  ]
}